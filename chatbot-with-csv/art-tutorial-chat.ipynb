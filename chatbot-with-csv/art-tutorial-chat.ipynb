{
 "cells": [
  {
   "cell_type": "markdown",
   "id": "9f9b6d5a",
   "metadata": {},
   "source": [
    "# Chat with your CSV documents!\n",
    "\n",
    "The following notebook illustrates how you can use the Semantic Kernel to create\n",
    "a basic chat experience over your CSV documents.\n",
    "\n",
    "It primarily makes use of embeddings and the Semantic Kernel's concept of Memory. "
   ]
  },
  {
   "cell_type": "code",
   "execution_count": 4,
   "id": "f2647874",
   "metadata": {},
   "outputs": [],
   "source": [
    "import semantic_kernel as sk\n",
    "from semantic_kernel.ai.open_ai import OpenAITextCompletion, OpenAITextEmbedding\n",
    "\n",
    "import pickle \n",
    "import pandas as pd\n",
    "from IPython.display import clear_output"
   ]
  },
  {
   "cell_type": "markdown",
   "id": "1dbc0ba3",
   "metadata": {},
   "source": [
    "### Load your CSV \n",
    "The data included is a curated list of drawing tutorials for people wanting to learn how to draw\n",
    "different animated characters, animals, and people. "
   ]
  },
  {
   "cell_type": "code",
   "execution_count": 5,
   "id": "1bbbd33d",
   "metadata": {},
   "outputs": [],
   "source": [
    "df = pd.read_csv(\"../data/art-tutorial-links.csv\")"
   ]
  },
  {
   "cell_type": "code",
   "execution_count": 6,
   "id": "eb020dd6",
   "metadata": {},
   "outputs": [
    {
     "data": {
      "text/html": [
       "<div>\n",
       "<style scoped>\n",
       "    .dataframe tbody tr th:only-of-type {\n",
       "        vertical-align: middle;\n",
       "    }\n",
       "\n",
       "    .dataframe tbody tr th {\n",
       "        vertical-align: top;\n",
       "    }\n",
       "\n",
       "    .dataframe thead th {\n",
       "        text-align: right;\n",
       "    }\n",
       "</style>\n",
       "<table border=\"1\" class=\"dataframe\">\n",
       "  <thead>\n",
       "    <tr style=\"text-align: right;\">\n",
       "      <th></th>\n",
       "      <th>Difficulty</th>\n",
       "      <th>Link</th>\n",
       "      <th>Tags</th>\n",
       "      <th>Description</th>\n",
       "    </tr>\n",
       "  </thead>\n",
       "  <tbody>\n",
       "    <tr>\n",
       "      <th>0</th>\n",
       "      <td>Easy</td>\n",
       "      <td>https://www.youtube.com/watch?v=WIbD1EQOi9c</td>\n",
       "      <td>comic, Batman</td>\n",
       "      <td>The video provides step-by-step instructions o...</td>\n",
       "    </tr>\n",
       "    <tr>\n",
       "      <th>1</th>\n",
       "      <td>Easy</td>\n",
       "      <td>https://www.youtube.com/watch?v=7U8j9bjmM0E&amp;t</td>\n",
       "      <td>comic, Spiderman</td>\n",
       "      <td>The tutorial provides a step-by-step guide on ...</td>\n",
       "    </tr>\n",
       "    <tr>\n",
       "      <th>2</th>\n",
       "      <td>Easy</td>\n",
       "      <td>https://www.youtube.com/watch?v=g8THwvHRnsI</td>\n",
       "      <td>comic, Spiderman</td>\n",
       "      <td>This YouTube video provides a step-by-step tut...</td>\n",
       "    </tr>\n",
       "    <tr>\n",
       "      <th>3</th>\n",
       "      <td>Easy</td>\n",
       "      <td>https://www.youtube.com/watch?v=g6OJH4VIgsA</td>\n",
       "      <td>Food, boba</td>\n",
       "      <td>First thing we’re going to do is draw the cup....</td>\n",
       "    </tr>\n",
       "    <tr>\n",
       "      <th>4</th>\n",
       "      <td>Easy</td>\n",
       "      <td>https://www.youtube.com/watch?v=I-9UxsWEi2k</td>\n",
       "      <td>Food, watermelon</td>\n",
       "      <td>The YouTuber guides the audience in how to dra...</td>\n",
       "    </tr>\n",
       "  </tbody>\n",
       "</table>\n",
       "</div>"
      ],
      "text/plain": [
       "  Difficulty                                           Link              Tags  \\\n",
       "0      Easy     https://www.youtube.com/watch?v=WIbD1EQOi9c     comic, Batman   \n",
       "1      Easy   https://www.youtube.com/watch?v=7U8j9bjmM0E&t  comic, Spiderman   \n",
       "2      Easy     https://www.youtube.com/watch?v=g8THwvHRnsI  comic, Spiderman   \n",
       "3      Easy     https://www.youtube.com/watch?v=g6OJH4VIgsA        Food, boba   \n",
       "4      Easy     https://www.youtube.com/watch?v=I-9UxsWEi2k  Food, watermelon   \n",
       "\n",
       "                                         Description  \n",
       "0  The video provides step-by-step instructions o...  \n",
       "1  The tutorial provides a step-by-step guide on ...  \n",
       "2  This YouTube video provides a step-by-step tut...  \n",
       "3  First thing we’re going to do is draw the cup....  \n",
       "4  The YouTuber guides the audience in how to dra...  "
      ]
     },
     "execution_count": 6,
     "metadata": {},
     "output_type": "execute_result"
    }
   ],
   "source": [
    "df.head()"
   ]
  },
  {
   "cell_type": "markdown",
   "id": "3a402475",
   "metadata": {},
   "source": [
    "### Setup the Semantic Kernel"
   ]
  },
  {
   "cell_type": "code",
   "execution_count": 7,
   "id": "a00a1e0d",
   "metadata": {},
   "outputs": [],
   "source": [
    "def build_kernel() -> sk.Kernel:\n",
    "    # Setup kernel with OpenAI completion and embedding backends\n",
    "    api_key, org_id = sk.openai_settings_from_dot_env()\n",
    "\n",
    "    kernel = (\n",
    "        sk.kernel_builder()\n",
    "        .configure(lambda c: c.add_text_backend(\"completion\", OpenAITextCompletion(\"text-davinci-003\", api_key, org_id)))\n",
    "        .configure(lambda c: c.add_embedding_backend(\"embeddings\", OpenAITextEmbedding(\"text-embedding-ada-002\", api_key, org_id)))\n",
    "        .with_memory_storage(sk.memory.VolatileMemoryStore())\n",
    "        .build()\n",
    "    )\n",
    "\n",
    "    kernel.import_skill(sk.core_skills.TextMemorySkill())\n",
    "\n",
    "    return kernel"
   ]
  },
  {
   "cell_type": "code",
   "execution_count": 8,
   "id": "8bfb8d96",
   "metadata": {},
   "outputs": [],
   "source": [
    "kernel = build_kernel()"
   ]
  },
  {
   "cell_type": "markdown",
   "id": "c32a9f04",
   "metadata": {},
   "source": [
    "### Create embeddings using the appropriate columns in the CSV"
   ]
  },
  {
   "cell_type": "code",
   "execution_count": 11,
   "id": "b0392a27",
   "metadata": {},
   "outputs": [],
   "source": [
    "# print(\"Adding rows of the CSV to VolatileMemory.\");\n",
    "# memory_collection_name = \"csv-file\"\n",
    "# for idx, row in df.iterrows():\n",
    "#     clear_output(wait=True)\n",
    "#     await kernel.memory.save_reference_async(\n",
    "#         collection=memory_collection_name,\n",
    "#         description=row['Description'],\n",
    "#         text=str(row['Description']+ \" | \" + row['Difficulty']),\n",
    "#         external_id=row[\"Link\"],\n",
    "#         external_source_name=memory_collection_name\n",
    "#     )\n",
    "#     print(\"Row {} saved\".format(idx))"
   ]
  },
  {
   "cell_type": "markdown",
   "id": "042efdac",
   "metadata": {},
   "source": [
    "### Persist kernel memory using pickle"
   ]
  },
  {
   "cell_type": "code",
   "execution_count": 12,
   "id": "e40bd024",
   "metadata": {},
   "outputs": [],
   "source": [
    "# temp = kernel.memory._storage._store\n",
    "# with open(\"kernel_memory_storage_store.pkl\", \"wb\") as f:\n",
    "#     pickle.dump(kernel.memory._storage._store, f)\n",
    "\n",
    "with open(\"kernel_memory_storage_store.pkl\", \"rb\") as f:\n",
    "    kernel.memory._storage._store = pickle.load(f)"
   ]
  },
  {
   "cell_type": "code",
   "execution_count": 13,
   "id": "a05036a8",
   "metadata": {},
   "outputs": [],
   "source": [
    "# print(\"Begin chatting (type 'exit' to exit):\\n\")\n",
    "# chatting = True\n",
    "# while chatting:\n",
    "#     chatting = await chat(kernel, chat_func, context)"
   ]
  },
  {
   "cell_type": "markdown",
   "id": "4c5aa089",
   "metadata": {},
   "source": [
    "### Chat to get the best Youtube link!"
   ]
  },
  {
   "cell_type": "code",
   "execution_count": 14,
   "id": "126b1e2a",
   "metadata": {},
   "outputs": [],
   "source": [
    "memory_collection_name = \"csv-file\""
   ]
  },
  {
   "cell_type": "code",
   "execution_count": 21,
   "id": "592bf520",
   "metadata": {},
   "outputs": [
    {
     "name": "stdout",
     "output_type": "stream",
     "text": [
      "===========================\n",
      "Query: I want to learn how to draw comic book characters\n",
      "\n",
      "Result 1\n",
      "  URL:     : https://www.youtube.com/watch?v=WIbD1EQOi9c\n",
      "  Description    : The video provides step-by-step instructions on how to draw a comic book-style Batman. The artist begins by drawing the upper brow, eyes, nose, mouth, and chin, and then adds details to the head and body, including the ears, cheeks, belt, and bat symbol. Later on, the artist works on the legs, feet, hip, arms, and adds final details to the cape, spikes, and gloves. The tutorial is clear and easy to follow, making it a great guide for anyone looking to draw Batman.\n",
      "  Relevance: 0.8601755250468365\n",
      "\n",
      "Result 2\n",
      "  URL:     : https://www.youtube.com/watch?v=89gPKm1JUeI\n",
      "  Description    : Welcome to the best Online Education Program for artists. Learn how to draw with Cartooning Club How To Draw. I'll teach you the simple method of drawing using easy to follow step by step instructions. If you're looking for some easy to follow homeschool programs or art lesson ideas then SUBSCRIBE for more daily drawing videos like this every single day!\n",
      "  Relevance: 0.8355849153532665\n",
      "\n",
      "Result 3\n",
      "  URL:     : https://www.youtube.com/watch?v=g8THwvHRnsI\n",
      "  Description    : This YouTube video provides a step-by-step tutorial on how to draw Miles Morales, focusing on details like his hood, jacket, eyes, spider symbol, legs, arms, and hands. The artist first demonstrates drawing the hood and jacket followed by the eyes, spider symbol, legs, and feet. They then add Nike symbols, toe caps, arms, hands, and cuffs to finish off the drawing. The tutorial's goal is to assist viewers in creating their version of the Spider-man character, Miles Morales from the movie Spider-man: Into the Spider-Verse.\n",
      "  Relevance: 0.8250226392848604\n",
      "\n",
      "Result 4\n",
      "  URL:     : https://www.youtube.com/watch?v=7U8j9bjmM0E&t\n",
      "  Description    : The tutorial provides a step-by-step guide on how to draw the Iron Spider from Spiderman Far From Home. The artist starts by drawing the eyes, then moves to the body, legs, and hints of mechanical arms, before detailing the arms and completing the drawing. Viewers are invited to submit requests for future tutorials and subscribe for more lessons.\n",
      "  Relevance: 0.8241605112298948\n",
      "\n",
      "Result 5\n",
      "  URL:     : https://www.youtube.com/watch?v=CNb2cV24wr0\n",
      "  Description    : Learn How to Draw cute Mirabel Madrigal from Disney's Encanto. Easy, step by step cartoon Hispanic girl drawing\n",
      "  Relevance: 0.8227366467847611\n",
      "\n"
     ]
    }
   ],
   "source": [
    "# ask = \"I love Batman! I want an easy tutorial for how to draw him!\"\n",
    "#ask = \"I want to learn how to draw animals for beginners\"\n",
    "ask = \"I want to learn how to draw comic book characters\"\n",
    "print(\"===========================\\n\" + \"Query: \" + ask + \"\\n\")\n",
    "\n",
    "memories = await kernel.memory.search_async(memory_collection_name, ask, limit=5, min_relevance_score=0.77)\n",
    "\n",
    "for i, memory in enumerate(memories):\n",
    "    print(\"Result {}\".format(i+1))\n",
    "    print(\"  URL:     : \" + memory.id)\n",
    "    print(\"  Description    : \" + memory.description)\n",
    "    print(\"  Relevance: \" + str(memory.relevance))\n",
    "    print()\n",
    "    "
   ]
  },
  {
   "cell_type": "code",
   "execution_count": 19,
   "id": "c85f8276",
   "metadata": {},
   "outputs": [
    {
     "data": {
      "image/jpeg": "[encoded data removed]",
      "text/html": [
       "\n",
       "        <iframe\n",
       "            width=\"800\"\n",
       "            height=\"600\"\n",
       "            src=\"https://www.youtube.com/embed/CNb2cV24wr0\"\n",
       "            frameborder=\"0\"\n",
       "            allowfullscreen\n",
       "            \n",
       "        ></iframe>\n",
       "        "
      ],
      "text/plain": [
       "<IPython.lib.display.YouTubeVideo at 0x7fea80d81a00>"
      ]
     },
     "execution_count": 19,
     "metadata": {},
     "output_type": "execute_result"
    }
   ],
   "source": [
    "from IPython.display import YouTubeVideo\n",
    "\n",
    "YouTubeVideo(memory.id.split(\"?v=\")[1], width=800, height=600)"
   ]
  }
 ],
 "metadata": {
  "kernelspec": {
   "display_name": "Python 3 (ipykernel)",
   "language": "python",
   "name": "python3"
  },
  "language_info": {
   "codemirror_mode": {
    "name": "ipython",
    "version": 3
   },
   "file_extension": ".py",
   "mimetype": "text/x-python",
   "name": "python",
   "nbconvert_exporter": "python",
   "pygments_lexer": "ipython3",
   "version": "3.9.12"
  }
 },
 "nbformat": 4,
 "nbformat_minor": 5
}
