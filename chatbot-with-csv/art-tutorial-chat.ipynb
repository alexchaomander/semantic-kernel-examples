{
 "cells": [
  {
   "cell_type": "markdown",
   "id": "9f9b6d5a",
   "metadata": {},
   "source": [
    "# Chat with your CSV documents!\n",
    "\n",
    "The following notebook illustrates how you can use the Semantic Kernel to create\n",
    "a basic chat experience over your CSV documents.\n",
    "\n",
    "It primarily makes use of embeddings and the Semantic Kernel's concept of Memory. "
   ]
  },
  {
   "cell_type": "code",
   "execution_count": null,
   "id": "98c6a555",
   "metadata": {
    "scrolled": true
   },
   "outputs": [],
   "source": [
    "!python -m pip install semantic-kernel==0.2.9.dev"
   ]
  },
  {
   "cell_type": "code",
   "execution_count": null,
   "id": "f2647874",
   "metadata": {},
   "outputs": [],
   "source": [
    "import semantic_kernel as sk\n",
    "from semantic_kernel.connectors.ai.open_ai import OpenAITextCompletion, OpenAITextEmbedding\n",
    "\n",
    "import pickle \n",
    "import pandas as pd\n",
    "from IPython.display import clear_output"
   ]
  },
  {
   "cell_type": "markdown",
   "id": "1dbc0ba3",
   "metadata": {},
   "source": [
    "### Load your CSV \n",
    "The data included is a curated list of drawing tutorials for people wanting to learn how to draw\n",
    "different animated characters, animals, and people. "
   ]
  },
  {
   "cell_type": "code",
   "execution_count": null,
   "id": "1bbbd33d",
   "metadata": {},
   "outputs": [],
   "source": [
    "df = pd.read_csv(\"../data/art-tutorial-links.csv\")"
   ]
  },
  {
   "cell_type": "code",
   "execution_count": null,
   "id": "eb020dd6",
   "metadata": {},
   "outputs": [],
   "source": [
    "df.head()"
   ]
  },
  {
   "cell_type": "markdown",
   "id": "3a402475",
   "metadata": {},
   "source": [
    "### Setup the Semantic Kernel"
   ]
  },
  {
   "cell_type": "code",
   "execution_count": null,
   "id": "a00a1e0d",
   "metadata": {},
   "outputs": [],
   "source": [
    "kernel = sk.Kernel()\n",
    "\n",
    "api_key, org_id = sk.openai_settings_from_dot_env()\n",
    "kernel.add_text_completion_service(\"dv\", OpenAITextCompletion(\"text-davinci-003\", api_key, org_id))\n",
    "kernel.add_text_embedding_generation_service(\"ada\", OpenAITextEmbedding(\"text-embedding-ada-002\", api_key, org_id))\n",
    "\n",
    "kernel.register_memory_store(memory_store=sk.memory.VolatileMemoryStore())\n",
    "kernel.import_skill(sk.core_skills.TextMemorySkill())"
   ]
  },
  {
   "cell_type": "markdown",
   "id": "c32a9f04",
   "metadata": {},
   "source": [
    "### Create embeddings using the appropriate columns in the CSV"
   ]
  },
  {
   "cell_type": "code",
   "execution_count": null,
   "id": "b0392a27",
   "metadata": {},
   "outputs": [],
   "source": [
    "# print(\"Adding rows of the CSV to VolatileMemory.\");\n",
    "# memory_collection_name = \"csv-file\"\n",
    "# for idx, row in df.iterrows():\n",
    "#     clear_output(wait=True)\n",
    "#     await kernel.memory.save_reference_async(\n",
    "#         collection=memory_collection_name,\n",
    "#         description=row['Description'],\n",
    "#         text=str(row['Description']+ \" | \" + row['Difficulty']),\n",
    "#         external_id=row[\"Link\"],\n",
    "#         external_source_name=memory_collection_name\n",
    "#     )\n",
    "#     print(\"Row {} saved\".format(idx))"
   ]
  },
  {
   "cell_type": "markdown",
   "id": "042efdac",
   "metadata": {},
   "source": [
    "### Persist kernel memory using pickle"
   ]
  },
  {
   "cell_type": "code",
   "execution_count": null,
   "id": "e40bd024",
   "metadata": {},
   "outputs": [],
   "source": [
    "# temp = kernel.memory._storage._store\n",
    "# with open(\"kernel_memory_storage_store.pkl\", \"wb\") as f:\n",
    "#     pickle.dump(kernel.memory._storage._store, f)\n",
    "\n",
    "with open(\"kernel_memory_storage_store.pkl\", \"rb\") as f:\n",
    "    kernel.memory._storage._store = pickle.load(f)"
   ]
  },
  {
   "cell_type": "code",
   "execution_count": null,
   "id": "a05036a8",
   "metadata": {},
   "outputs": [],
   "source": [
    "# print(\"Begin chatting (type 'exit' to exit):\\n\")\n",
    "# chatting = True\n",
    "# while chatting:\n",
    "#     chatting = await chat(kernel, chat_func, context)"
   ]
  },
  {
   "cell_type": "markdown",
   "id": "4c5aa089",
   "metadata": {},
   "source": [
    "### Chat to get the best Youtube link!"
   ]
  },
  {
   "cell_type": "code",
   "execution_count": null,
   "id": "126b1e2a",
   "metadata": {},
   "outputs": [],
   "source": [
    "memory_collection_name = \"csv-file\""
   ]
  },
  {
   "cell_type": "code",
   "execution_count": null,
   "id": "592bf520",
   "metadata": {},
   "outputs": [],
   "source": [
    "# ask = \"I love Batman! I want an easy tutorial for how to draw him!\"\n",
    "#ask = \"I want to learn how to draw animals for beginners\"\n",
    "ask = \"I want to learn how to draw comic book characters\"\n",
    "print(\"===========================\\n\" + \"Query: \" + ask + \"\\n\")\n",
    "\n",
    "memories = await kernel.memory.search_async(memory_collection_name, ask, limit=5, min_relevance_score=0.77)\n",
    "\n",
    "for i, memory in enumerate(memories):\n",
    "    print(\"Result {}\".format(i+1))\n",
    "    print(\"  URL:     : \" + memory.id)\n",
    "    print(\"  Description    : \" + memory.description)\n",
    "    print(\"  Relevance: \" + str(memory.relevance))\n",
    "    print()\n",
    "    "
   ]
  },
  {
   "cell_type": "code",
   "execution_count": null,
   "id": "c85f8276",
   "metadata": {},
   "outputs": [],
   "source": [
    "from IPython.display import YouTubeVideo\n",
    "\n",
    "YouTubeVideo(memory.id.split(\"?v=\")[1], width=800, height=600)"
   ]
  }
 ],
 "metadata": {
  "kernelspec": {
   "display_name": "Python 3 (ipykernel)",
   "language": "python",
   "name": "python3"
  },
  "language_info": {
   "codemirror_mode": {
    "name": "ipython",
    "version": 3
   },
   "file_extension": ".py",
   "mimetype": "text/x-python",
   "name": "python",
   "nbconvert_exporter": "python",
   "pygments_lexer": "ipython3",
   "version": "3.10.11"
  }
 },
 "nbformat": 4,
 "nbformat_minor": 5
}
